{
 "cells": [
  {
   "cell_type": "markdown",
   "metadata": {},
   "source": [
    "# Using the geojson generator"
   ]
  },
  {
   "cell_type": "markdown",
   "metadata": {},
   "source": [
    "## Import the packages"
   ]
  },
  {
   "cell_type": "code",
   "execution_count": 1,
   "metadata": {},
   "outputs": [],
   "source": [
    "import pandas as pd"
   ]
  },
  {
   "cell_type": "code",
   "execution_count": 2,
   "metadata": {},
   "outputs": [],
   "source": [
    "from convert2geojson import Convert2GeoJson\n",
    "from citableclass import Citable"
   ]
  },
  {
   "cell_type": "markdown",
   "metadata": {},
   "source": [
    "## Load data from citable\n",
    "\n",
    "The data can be provided in various ways. This tutorial uses the `citable`format of Edition Topoi, see [here](http://www.edition-topoi.org/publishing_with_us/citable) for details (currently in German only). "
   ]
  },
  {
   "cell_type": "code",
   "execution_count": 3,
   "metadata": {},
   "outputs": [],
   "source": [
    "cite = Citable('DTBS00024',formats='dev')"
   ]
  },
  {
   "cell_type": "markdown",
   "metadata": {},
   "source": [
    "For data from Edition Topoi the format of data can be checked in metadata `cite.metadata()`. In this case, the excel data can be downloaded with `cite.excel()`, which saves the data locally as `temp.xlsx`, which is returned by the method. We can then create a dataframe by providing the path to the data."
   ]
  },
  {
   "cell_type": "code",
   "execution_count": 4,
   "metadata": {},
   "outputs": [
    {
     "data": {
      "text/html": [
       "<div>\n",
       "<style scoped>\n",
       "    .dataframe tbody tr th:only-of-type {\n",
       "        vertical-align: middle;\n",
       "    }\n",
       "\n",
       "    .dataframe tbody tr th {\n",
       "        vertical-align: top;\n",
       "    }\n",
       "\n",
       "    .dataframe thead th {\n",
       "        text-align: right;\n",
       "    }\n",
       "</style>\n",
       "<table border=\"1\" class=\"dataframe\">\n",
       "  <thead>\n",
       "    <tr style=\"text-align: right;\">\n",
       "      <th></th>\n",
       "      <th>TopoRef</th>\n",
       "      <th>Name</th>\n",
       "      <th>People</th>\n",
       "      <th>Type</th>\n",
       "      <th>Longitude Omega</th>\n",
       "      <th>Latitude Omega</th>\n",
       "      <th>Longitude Xi</th>\n",
       "      <th>Latitude Xi</th>\n",
       "      <th>Modern Location</th>\n",
       "      <th>Modern Longitude</th>\n",
       "      <th>Modern Latitude</th>\n",
       "    </tr>\n",
       "  </thead>\n",
       "  <tbody>\n",
       "    <tr>\n",
       "      <th>0</th>\n",
       "      <td>2.04.03.01</td>\n",
       "      <td>Western Mouth of the Anas</td>\n",
       "      <td>Turdetani</td>\n",
       "      <td>Coast</td>\n",
       "      <td>4.083</td>\n",
       "      <td>37.667</td>\n",
       "      <td>4.083</td>\n",
       "      <td>37.667</td>\n",
       "      <td>Mouth of the Guadiana near Aesuris</td>\n",
       "      <td>-7.404786</td>\n",
       "      <td>37.178328</td>\n",
       "    </tr>\n",
       "    <tr>\n",
       "      <th>1</th>\n",
       "      <td>2.04.03.02</td>\n",
       "      <td>Eastern Mouth of the Anas</td>\n",
       "      <td>Turdetani</td>\n",
       "      <td>Coast</td>\n",
       "      <td>4.333</td>\n",
       "      <td>37.500</td>\n",
       "      <td>4.333</td>\n",
       "      <td>37.500</td>\n",
       "      <td>Mouth of the Guadiana near Lepe</td>\n",
       "      <td>-7.169964</td>\n",
       "      <td>37.219769</td>\n",
       "    </tr>\n",
       "    <tr>\n",
       "      <th>2</th>\n",
       "      <td>2.04.03.03</td>\n",
       "      <td>Eastward bend of the Anas</td>\n",
       "      <td>Unspecified</td>\n",
       "      <td>Interior</td>\n",
       "      <td>6.333</td>\n",
       "      <td>39.000</td>\n",
       "      <td>6.333</td>\n",
       "      <td>39.000</td>\n",
       "      <td>NaN</td>\n",
       "      <td>NaN</td>\n",
       "      <td>NaN</td>\n",
       "    </tr>\n",
       "    <tr>\n",
       "      <th>3</th>\n",
       "      <td>2.04.03.04</td>\n",
       "      <td>Baetica-Lusitania-Tarraconensis Boundary at th...</td>\n",
       "      <td>Unspecified</td>\n",
       "      <td>Interior</td>\n",
       "      <td>9.000</td>\n",
       "      <td>39.000</td>\n",
       "      <td>9.000</td>\n",
       "      <td>39.000</td>\n",
       "      <td>NaN</td>\n",
       "      <td>NaN</td>\n",
       "      <td>NaN</td>\n",
       "    </tr>\n",
       "    <tr>\n",
       "      <th>4</th>\n",
       "      <td>2.04.03.07</td>\n",
       "      <td>Baetica-Tarraconensis Boundary at the Balearia...</td>\n",
       "      <td>Unspecified</td>\n",
       "      <td>Coast</td>\n",
       "      <td>12.000</td>\n",
       "      <td>37.250</td>\n",
       "      <td>12.000</td>\n",
       "      <td>37.250</td>\n",
       "      <td>NaN</td>\n",
       "      <td>NaN</td>\n",
       "      <td>NaN</td>\n",
       "    </tr>\n",
       "  </tbody>\n",
       "</table>\n",
       "</div>"
      ],
      "text/plain": [
       "      TopoRef                                               Name       People  \\\n",
       "0  2.04.03.01                          Western Mouth of the Anas    Turdetani   \n",
       "1  2.04.03.02                          Eastern Mouth of the Anas    Turdetani   \n",
       "2  2.04.03.03                          Eastward bend of the Anas  Unspecified   \n",
       "3  2.04.03.04  Baetica-Lusitania-Tarraconensis Boundary at th...  Unspecified   \n",
       "4  2.04.03.07  Baetica-Tarraconensis Boundary at the Balearia...  Unspecified   \n",
       "\n",
       "       Type  Longitude Omega  Latitude Omega  Longitude Xi  Latitude Xi  \\\n",
       "0     Coast            4.083          37.667         4.083       37.667   \n",
       "1     Coast            4.333          37.500         4.333       37.500   \n",
       "2  Interior            6.333          39.000         6.333       39.000   \n",
       "3  Interior            9.000          39.000         9.000       39.000   \n",
       "4     Coast           12.000          37.250        12.000       37.250   \n",
       "\n",
       "                      Modern Location  Modern Longitude  Modern Latitude  \n",
       "0  Mouth of the Guadiana near Aesuris         -7.404786        37.178328  \n",
       "1     Mouth of the Guadiana near Lepe         -7.169964        37.219769  \n",
       "2                                 NaN               NaN              NaN  \n",
       "3                                 NaN               NaN              NaN  \n",
       "4                                 NaN               NaN              NaN  "
      ]
     },
     "execution_count": 4,
     "metadata": {},
     "output_type": "execute_result"
    }
   ],
   "source": [
    "df = pd.read_excel(cite.excel())\n",
    "df.head()"
   ]
  },
  {
   "cell_type": "markdown",
   "metadata": {},
   "source": [
    "## Build GeoJSON and save to disc\n",
    "\n",
    "Note that not every dataframe row contains information on longitude or latitude. These rows are dropped from the dataframe. Therefore, the number of found features may vary.\n",
    "\n",
    "Instantiate using the dataframe, a list of properties to be displayed in popups, and the column titles for the geodata. By adding `.convert()` the geojson is created directly after instantiation."
   ]
  },
  {
   "cell_type": "code",
   "execution_count": 5,
   "metadata": {},
   "outputs": [],
   "source": [
    "build = Convert2GeoJson(dataframe=df, properties=df.columns, lat='Modern Latitude',lon='Modern Longitude').convert()"
   ]
  },
  {
   "cell_type": "markdown",
   "metadata": {},
   "source": [
    "You can provide additional information for the geoJSON by adding an attribution (`attribution='Generated by ...'`) and a description (`description='Shows the ...`).\n"
   ]
  },
  {
   "cell_type": "markdown",
   "metadata": {},
   "source": [
    "The generated geoJSON in dictionary format can be accessed by `.geojson()`."
   ]
  },
  {
   "cell_type": "code",
   "execution_count": 6,
   "metadata": {},
   "outputs": [
    {
     "data": {
      "text/plain": [
       "dict_keys(['type', 'features', 'properties'])"
      ]
     },
     "execution_count": 6,
     "metadata": {},
     "output_type": "execute_result"
    }
   ],
   "source": [
    "geojson = build.geojson()\n",
    "geojson.keys()"
   ]
  },
  {
   "cell_type": "markdown",
   "metadata": {},
   "source": [
    "To save the generated geoJSON as a file, chose"
   ]
  },
  {
   "cell_type": "code",
   "execution_count": 7,
   "metadata": {},
   "outputs": [
    {
     "data": {
      "text/plain": [
       "'./data.geojson'"
      ]
     },
     "execution_count": 7,
     "metadata": {},
     "output_type": "execute_result"
    }
   ],
   "source": [
    "build.save()"
   ]
  },
  {
   "cell_type": "markdown",
   "metadata": {},
   "source": [
    "You can also provide parameters for the filename (`name='data.geojson'`) or path (`path='.'`)."
   ]
  },
  {
   "cell_type": "markdown",
   "metadata": {},
   "source": [
    "## Display result\n",
    "\n",
    "The package uses ipyleaflet to generate the map for the geoJSON data. \n",
    "\n",
    "Markers on maps can be drawn fully (standard) or grouped with leaflets `MarkerCluster` (style='grouped'). The basemap for the background mapping is loaded from CartoDBs 'base-light-nolabels' source. Additonal parameters include customized basemaps or layouting for the map."
   ]
  },
  {
   "cell_type": "code",
   "execution_count": 8,
   "metadata": {},
   "outputs": [],
   "source": [
    "mapD = build.display()"
   ]
  },
  {
   "cell_type": "code",
   "execution_count": 9,
   "metadata": {
    "scrolled": false
   },
   "outputs": [
    {
     "data": {
      "application/vnd.jupyter.widget-view+json": {
       "model_id": "bdccef52c62b4e1091d7fadf4893b69d",
       "version_major": 2,
       "version_minor": 0
      },
      "text/plain": [
       "Map(basemap={'url': 'https://{s}.tile.openstreetmap.org/{z}/{x}/{y}.png', 'max_zoom': 19, 'attribution': 'Map …"
      ]
     },
     "metadata": {},
     "output_type": "display_data"
    }
   ],
   "source": [
    "mapD"
   ]
  },
  {
   "cell_type": "code",
   "execution_count": null,
   "metadata": {},
   "outputs": [],
   "source": []
  }
 ],
 "metadata": {
  "kernelspec": {
   "display_name": "Python 3",
   "language": "python",
   "name": "python3"
  },
  "language_info": {
   "codemirror_mode": {
    "name": "ipython",
    "version": 3
   },
   "file_extension": ".py",
   "mimetype": "text/x-python",
   "name": "python",
   "nbconvert_exporter": "python",
   "pygments_lexer": "ipython3",
   "version": "3.6.5"
  },
  "nav_menu": {},
  "toc": {
   "navigate_menu": true,
   "number_sections": true,
   "sideBar": true,
   "threshold": 6,
   "toc_cell": false,
   "toc_section_display": "block",
   "toc_window_display": true
  },
  "toc_position": {
   "height": "807.3px",
   "left": "0px",
   "right": "1708px",
   "top": "135.7px",
   "width": "212px"
  }
 },
 "nbformat": 4,
 "nbformat_minor": 2
}
