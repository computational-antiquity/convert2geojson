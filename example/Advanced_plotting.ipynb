{
 "cells": [
  {
   "cell_type": "markdown",
   "metadata": {},
   "source": [
    "# Advanced plotting\n",
    "\n",
    "For dense geographical data, which can be ordered in sub-categories, the package offers a plotting method based on pie chart marker cluster. This part of the package is based on work by [Bard Romstad](http://bl.ocks.org/gisminister). Due to issues with CORS security settings in most modern browsers, the generated map can not be displayed as an inline map. \n",
    "The package therefore generates a standalone map using the provided data. Please follow the instructions below.\n",
    "\n",
    "As in the introductory tutorial, the data can be loaded from various sources. We use the citable-format."
   ]
  },
  {
   "cell_type": "markdown",
   "metadata": {},
   "source": [
    "## Import the packages"
   ]
  },
  {
   "cell_type": "code",
   "execution_count": 1,
   "metadata": {},
   "outputs": [],
   "source": [
    "import pandas as pd"
   ]
  },
  {
   "cell_type": "code",
   "execution_count": 2,
   "metadata": {},
   "outputs": [],
   "source": [
    "from convert2geojson import Convert2GeoJson\n",
    "from citableclass import Citable"
   ]
  },
  {
   "cell_type": "markdown",
   "metadata": {},
   "source": [
    "## Load data from citable"
   ]
  },
  {
   "cell_type": "code",
   "execution_count": 3,
   "metadata": {},
   "outputs": [],
   "source": [
    "cite = Citable('DTBS00024',formats='dev')"
   ]
  },
  {
   "cell_type": "code",
   "execution_count": 4,
   "metadata": {},
   "outputs": [
    {
     "data": {
      "text/html": [
       "<div>\n",
       "<style scoped>\n",
       "    .dataframe tbody tr th:only-of-type {\n",
       "        vertical-align: middle;\n",
       "    }\n",
       "\n",
       "    .dataframe tbody tr th {\n",
       "        vertical-align: top;\n",
       "    }\n",
       "\n",
       "    .dataframe thead th {\n",
       "        text-align: right;\n",
       "    }\n",
       "</style>\n",
       "<table border=\"1\" class=\"dataframe\">\n",
       "  <thead>\n",
       "    <tr style=\"text-align: right;\">\n",
       "      <th></th>\n",
       "      <th>TopoRef</th>\n",
       "      <th>Name</th>\n",
       "      <th>People</th>\n",
       "      <th>Type</th>\n",
       "      <th>Longitude Omega</th>\n",
       "      <th>Latitude Omega</th>\n",
       "      <th>Longitude Xi</th>\n",
       "      <th>Latitude Xi</th>\n",
       "      <th>Modern Location</th>\n",
       "      <th>Modern Longitude</th>\n",
       "      <th>Modern Latitude</th>\n",
       "    </tr>\n",
       "  </thead>\n",
       "  <tbody>\n",
       "    <tr>\n",
       "      <th>0</th>\n",
       "      <td>2.04.03.01</td>\n",
       "      <td>Western Mouth of the Anas</td>\n",
       "      <td>Turdetani</td>\n",
       "      <td>Coast</td>\n",
       "      <td>4.083</td>\n",
       "      <td>37.667</td>\n",
       "      <td>4.083</td>\n",
       "      <td>37.667</td>\n",
       "      <td>Mouth of the Guadiana near Aesuris</td>\n",
       "      <td>-7.404786</td>\n",
       "      <td>37.178328</td>\n",
       "    </tr>\n",
       "    <tr>\n",
       "      <th>1</th>\n",
       "      <td>2.04.03.02</td>\n",
       "      <td>Eastern Mouth of the Anas</td>\n",
       "      <td>Turdetani</td>\n",
       "      <td>Coast</td>\n",
       "      <td>4.333</td>\n",
       "      <td>37.500</td>\n",
       "      <td>4.333</td>\n",
       "      <td>37.500</td>\n",
       "      <td>Mouth of the Guadiana near Lepe</td>\n",
       "      <td>-7.169964</td>\n",
       "      <td>37.219769</td>\n",
       "    </tr>\n",
       "    <tr>\n",
       "      <th>2</th>\n",
       "      <td>2.04.03.03</td>\n",
       "      <td>Eastward bend of the Anas</td>\n",
       "      <td>Unspecified</td>\n",
       "      <td>Interior</td>\n",
       "      <td>6.333</td>\n",
       "      <td>39.000</td>\n",
       "      <td>6.333</td>\n",
       "      <td>39.000</td>\n",
       "      <td>NaN</td>\n",
       "      <td>NaN</td>\n",
       "      <td>NaN</td>\n",
       "    </tr>\n",
       "    <tr>\n",
       "      <th>3</th>\n",
       "      <td>2.04.03.04</td>\n",
       "      <td>Baetica-Lusitania-Tarraconensis Boundary at th...</td>\n",
       "      <td>Unspecified</td>\n",
       "      <td>Interior</td>\n",
       "      <td>9.000</td>\n",
       "      <td>39.000</td>\n",
       "      <td>9.000</td>\n",
       "      <td>39.000</td>\n",
       "      <td>NaN</td>\n",
       "      <td>NaN</td>\n",
       "      <td>NaN</td>\n",
       "    </tr>\n",
       "    <tr>\n",
       "      <th>4</th>\n",
       "      <td>2.04.03.07</td>\n",
       "      <td>Baetica-Tarraconensis Boundary at the Balearia...</td>\n",
       "      <td>Unspecified</td>\n",
       "      <td>Coast</td>\n",
       "      <td>12.000</td>\n",
       "      <td>37.250</td>\n",
       "      <td>12.000</td>\n",
       "      <td>37.250</td>\n",
       "      <td>NaN</td>\n",
       "      <td>NaN</td>\n",
       "      <td>NaN</td>\n",
       "    </tr>\n",
       "  </tbody>\n",
       "</table>\n",
       "</div>"
      ],
      "text/plain": [
       "      TopoRef                                               Name       People  \\\n",
       "0  2.04.03.01                          Western Mouth of the Anas    Turdetani   \n",
       "1  2.04.03.02                          Eastern Mouth of the Anas    Turdetani   \n",
       "2  2.04.03.03                          Eastward bend of the Anas  Unspecified   \n",
       "3  2.04.03.04  Baetica-Lusitania-Tarraconensis Boundary at th...  Unspecified   \n",
       "4  2.04.03.07  Baetica-Tarraconensis Boundary at the Balearia...  Unspecified   \n",
       "\n",
       "       Type  Longitude Omega  Latitude Omega  Longitude Xi  Latitude Xi  \\\n",
       "0     Coast            4.083          37.667         4.083       37.667   \n",
       "1     Coast            4.333          37.500         4.333       37.500   \n",
       "2  Interior            6.333          39.000         6.333       39.000   \n",
       "3  Interior            9.000          39.000         9.000       39.000   \n",
       "4     Coast           12.000          37.250        12.000       37.250   \n",
       "\n",
       "                      Modern Location  Modern Longitude  Modern Latitude  \n",
       "0  Mouth of the Guadiana near Aesuris         -7.404786        37.178328  \n",
       "1     Mouth of the Guadiana near Lepe         -7.169964        37.219769  \n",
       "2                                 NaN               NaN              NaN  \n",
       "3                                 NaN               NaN              NaN  \n",
       "4                                 NaN               NaN              NaN  "
      ]
     },
     "execution_count": 4,
     "metadata": {},
     "output_type": "execute_result"
    }
   ],
   "source": [
    "df = pd.read_excel(cite.excel())\n",
    "df.head()"
   ]
  },
  {
   "cell_type": "markdown",
   "metadata": {},
   "source": [
    "## Build GeoJSON and save to disc\n",
    "\n",
    "Again we instantiate the class with the dataframe, etc."
   ]
  },
  {
   "cell_type": "code",
   "execution_count": 5,
   "metadata": {},
   "outputs": [],
   "source": [
    "build = Convert2GeoJson(dataframe=df, properties=df.columns, lat='Modern Latitude',lon='Modern Longitude').convert()"
   ]
  },
  {
   "cell_type": "markdown",
   "metadata": {},
   "source": [
    "## Display results as marker clusters\n",
    "\n",
    "For more dense geographical data, ipyleaflet allows to automatically cluster markers depending on the zoom level. To chose this style, provide the paramter `style='grouped'`."
   ]
  },
  {
   "cell_type": "code",
   "execution_count": 6,
   "metadata": {},
   "outputs": [
    {
     "data": {
      "application/vnd.jupyter.widget-view+json": {
       "model_id": "6ae23570fbf04033bdb65f9fee5fa737",
       "version_major": 2,
       "version_minor": 0
      },
      "text/plain": [
       "Map(basemap={'url': 'https://{s}.tile.openstreetmap.org/{z}/{x}/{y}.png', 'max_zoom': 19, 'attribution': 'Map …"
      ]
     },
     "metadata": {},
     "output_type": "display_data"
    }
   ],
   "source": [
    "mapD0 = build.display(style='grouped')\n",
    "mapD0"
   ]
  },
  {
   "cell_type": "markdown",
   "metadata": {},
   "source": [
    "## Display result as pie charts\n",
    "\n",
    "Some geographical data can be devided into sub-categories. For an overview over the distribution of such sub-categories, it can be useful to plot the data as pie chart clusters. To select this plotting stlye, use `style='pie'` and give a category for which the pie charts should be generated. This information is used together with a HTML template to generate a standalone map of the pie charts map. \n",
    "\n",
    "Due to CORS most browsers can not display this generated HTML file inline. You can either download the data to display it locally, or, if you are already working offline, simply use your file browser to nagivate to the HTML file and open it by double clicking."
   ]
  },
  {
   "cell_type": "code",
   "execution_count": 7,
   "metadata": {},
   "outputs": [
    {
     "name": "stdout",
     "output_type": "stream",
     "text": [
      "Your map has been generated at\n",
      "\t\"/html/static/index.html\".\n",
      "Due to CORS issues, most browsers will not load the GeoJSON in an Iframe correctly.\n",
      "Please open the map in a seperate browser window.\n"
     ]
    }
   ],
   "source": [
    "mapD = build.display(style='pie', groupBy='Type')"
   ]
  },
  {
   "cell_type": "markdown",
   "metadata": {},
   "source": [
    "### Screenshot\n",
    "\n",
    "\n",
    "![Screenshot of generated map](pieChartMap.png \"Screenshot of generated map\")"
   ]
  }
 ],
 "metadata": {
  "kernelspec": {
   "display_name": "Python 3",
   "language": "python",
   "name": "python3"
  },
  "language_info": {
   "codemirror_mode": {
    "name": "ipython",
    "version": 3
   },
   "file_extension": ".py",
   "mimetype": "text/x-python",
   "name": "python",
   "nbconvert_exporter": "python",
   "pygments_lexer": "ipython3",
   "version": "3.6.5"
  },
  "nav_menu": {},
  "toc": {
   "navigate_menu": true,
   "number_sections": true,
   "sideBar": true,
   "threshold": 6,
   "toc_cell": false,
   "toc_section_display": "block",
   "toc_window_display": true
  },
  "toc_position": {
   "height": "807.3px",
   "left": "0px",
   "right": "1708px",
   "top": "135.7px",
   "width": "212px"
  }
 },
 "nbformat": 4,
 "nbformat_minor": 2
}
